{
 "cells": [
  {
   "cell_type": "code",
   "execution_count": 1,
   "id": "6401722d",
   "metadata": {},
   "outputs": [],
   "source": [
    "import pandas as pd\n",
    "import numpy as np\n",
    "import matplotlib.pyplot as plt\n",
    "import seaborn as sns\n",
    "import statistics as st\n",
    "from sklearn.preprocessing import OneHotEncoder\n",
    "import warnings\n",
    "warnings.filterwarnings(\"ignore\")\n",
    "sns.set(rc={\"figure.figsize\":(11,8)})\n",
    "pd.pandas.set_option(\"display.max_columns\",None)"
   ]
  },
  {
   "cell_type": "code",
   "execution_count": 2,
   "id": "4336712d",
   "metadata": {},
   "outputs": [],
   "source": [
    "df = pd.read_csv(\"watches.csv\")"
   ]
  },
  {
   "cell_type": "code",
   "execution_count": 4,
   "id": "abf4df04",
   "metadata": {},
   "outputs": [],
   "source": [
    "data = df.copy()"
   ]
  },
  {
   "cell_type": "code",
   "execution_count": 8,
   "id": "32315afe",
   "metadata": {},
   "outputs": [],
   "source": [
    "# drop unwanted conums\n",
    "data.drop([\"Unnamed: 0\",\"images_links\"],axis=1,inplace=True)"
   ]
  },
  {
   "cell_type": "code",
   "execution_count": 9,
   "id": "61ef5911",
   "metadata": {},
   "outputs": [
    {
     "data": {
      "text/html": [
       "<div>\n",
       "<style scoped>\n",
       "    .dataframe tbody tr th:only-of-type {\n",
       "        vertical-align: middle;\n",
       "    }\n",
       "\n",
       "    .dataframe tbody tr th {\n",
       "        vertical-align: top;\n",
       "    }\n",
       "\n",
       "    .dataframe thead th {\n",
       "        text-align: right;\n",
       "    }\n",
       "</style>\n",
       "<table border=\"1\" class=\"dataframe\">\n",
       "  <thead>\n",
       "    <tr style=\"text-align: right;\">\n",
       "      <th></th>\n",
       "      <th>titles</th>\n",
       "      <th>brand_names</th>\n",
       "      <th>prices</th>\n",
       "      <th>offers</th>\n",
       "      <th>Gender</th>\n",
       "      <th>Type</th>\n",
       "    </tr>\n",
       "  </thead>\n",
       "  <tbody>\n",
       "    <tr>\n",
       "      <th>0</th>\n",
       "      <td>NP2576WM01 Analog Watch - For Women</td>\n",
       "      <td>Titan</td>\n",
       "      <td>₹3,754</td>\n",
       "      <td>20% off</td>\n",
       "      <td>Women</td>\n",
       "      <td>Analog</td>\n",
       "    </tr>\n",
       "    <tr>\n",
       "      <th>1</th>\n",
       "      <td>PWRM-King Day And Date Functioning High Qualit...</td>\n",
       "      <td>Piaoma</td>\n",
       "      <td>₹270</td>\n",
       "      <td>86% off</td>\n",
       "      <td>Unisex</td>\n",
       "      <td>none</td>\n",
       "    </tr>\n",
       "    <tr>\n",
       "      <th>2</th>\n",
       "      <td>77085PP03 Volt Analog Watch - For Men</td>\n",
       "      <td>SONATA</td>\n",
       "      <td>₹524</td>\n",
       "      <td>25% off</td>\n",
       "      <td>Men</td>\n",
       "      <td>Analog</td>\n",
       "    </tr>\n",
       "    <tr>\n",
       "      <th>3</th>\n",
       "      <td>LCS-8188 TRENDING DAY &amp; DATE FUNCTIONING Analo...</td>\n",
       "      <td>LOIS CARON</td>\n",
       "      <td>₹319</td>\n",
       "      <td>82% off</td>\n",
       "      <td>Unisex</td>\n",
       "      <td>Analog</td>\n",
       "    </tr>\n",
       "    <tr>\n",
       "      <th>4</th>\n",
       "      <td>Gents Exclusive 3 Designer Combo (Casual+Party...</td>\n",
       "      <td>Rizzly</td>\n",
       "      <td>₹343</td>\n",
       "      <td>61% off</td>\n",
       "      <td>Unisex</td>\n",
       "      <td>none</td>\n",
       "    </tr>\n",
       "  </tbody>\n",
       "</table>\n",
       "</div>"
      ],
      "text/plain": [
       "                                              titles brand_names  prices  \\\n",
       "0                NP2576WM01 Analog Watch - For Women       Titan  ₹3,754   \n",
       "1  PWRM-King Day And Date Functioning High Qualit...      Piaoma    ₹270   \n",
       "2              77085PP03 Volt Analog Watch - For Men      SONATA    ₹524   \n",
       "3  LCS-8188 TRENDING DAY & DATE FUNCTIONING Analo...  LOIS CARON    ₹319   \n",
       "4  Gents Exclusive 3 Designer Combo (Casual+Party...      Rizzly    ₹343   \n",
       "\n",
       "    offers  Gender    Type  \n",
       "0  20% off   Women  Analog  \n",
       "1  86% off  Unisex    none  \n",
       "2  25% off     Men  Analog  \n",
       "3  82% off  Unisex  Analog  \n",
       "4  61% off  Unisex    none  "
      ]
     },
     "execution_count": 9,
     "metadata": {},
     "output_type": "execute_result"
    }
   ],
   "source": [
    "data.head()"
   ]
  },
  {
   "cell_type": "code",
   "execution_count": 11,
   "id": "40610d02",
   "metadata": {},
   "outputs": [
    {
     "data": {
      "text/html": [
       "<div>\n",
       "<style scoped>\n",
       "    .dataframe tbody tr th:only-of-type {\n",
       "        vertical-align: middle;\n",
       "    }\n",
       "\n",
       "    .dataframe tbody tr th {\n",
       "        vertical-align: top;\n",
       "    }\n",
       "\n",
       "    .dataframe thead th {\n",
       "        text-align: right;\n",
       "    }\n",
       "</style>\n",
       "<table border=\"1\" class=\"dataframe\">\n",
       "  <thead>\n",
       "    <tr style=\"text-align: right;\">\n",
       "      <th></th>\n",
       "      <th>titles</th>\n",
       "      <th>brand_names</th>\n",
       "      <th>prices</th>\n",
       "      <th>offers</th>\n",
       "      <th>Gender</th>\n",
       "      <th>Type</th>\n",
       "    </tr>\n",
       "  </thead>\n",
       "  <tbody>\n",
       "    <tr>\n",
       "      <th>970</th>\n",
       "      <td>LCS-1456 Day And Date Functioning High Quality...</td>\n",
       "      <td>Espoir</td>\n",
       "      <td>₹273</td>\n",
       "      <td>50% off</td>\n",
       "      <td>Unisex</td>\n",
       "      <td>Analog</td>\n",
       "    </tr>\n",
       "    <tr>\n",
       "      <th>971</th>\n",
       "      <td>ORIGINAL Fancy Present All Diamond Black Silve...</td>\n",
       "      <td>DKERAOD</td>\n",
       "      <td>₹299</td>\n",
       "      <td>71% off</td>\n",
       "      <td>Unisex</td>\n",
       "      <td>none</td>\n",
       "    </tr>\n",
       "    <tr>\n",
       "      <th>972</th>\n",
       "      <td>AX2155 Hampton Analog Watch - For Men</td>\n",
       "      <td>A/X ARMANI EXCHANGE</td>\n",
       "      <td>₹6,997</td>\n",
       "      <td>85% off</td>\n",
       "      <td>Men</td>\n",
       "      <td>Analog</td>\n",
       "    </tr>\n",
       "    <tr>\n",
       "      <th>973</th>\n",
       "      <td>2229685 Analog Watch - For Men</td>\n",
       "      <td>Mast &amp; Harbour</td>\n",
       "      <td>₹1,129</td>\n",
       "      <td>15% off</td>\n",
       "      <td>Men</td>\n",
       "      <td>Analog</td>\n",
       "    </tr>\n",
       "    <tr>\n",
       "      <th>974</th>\n",
       "      <td>ANLG-428-BROWN-BRWN All Brown Boys Series Anal...</td>\n",
       "      <td>ANALOGUE</td>\n",
       "      <td>₹214</td>\n",
       "      <td>10% off</td>\n",
       "      <td>Unisex</td>\n",
       "      <td>Analog</td>\n",
       "    </tr>\n",
       "  </tbody>\n",
       "</table>\n",
       "</div>"
      ],
      "text/plain": [
       "                                                titles          brand_names  \\\n",
       "970  LCS-1456 Day And Date Functioning High Quality...               Espoir   \n",
       "971  ORIGINAL Fancy Present All Diamond Black Silve...              DKERAOD   \n",
       "972              AX2155 Hampton Analog Watch - For Men  A/X ARMANI EXCHANGE   \n",
       "973                     2229685 Analog Watch - For Men       Mast & Harbour   \n",
       "974  ANLG-428-BROWN-BRWN All Brown Boys Series Anal...             ANALOGUE   \n",
       "\n",
       "     prices   offers  Gender    Type  \n",
       "970    ₹273  50% off  Unisex  Analog  \n",
       "971    ₹299  71% off  Unisex    none  \n",
       "972  ₹6,997  85% off     Men  Analog  \n",
       "973  ₹1,129  15% off     Men  Analog  \n",
       "974    ₹214  10% off  Unisex  Analog  "
      ]
     },
     "execution_count": 11,
     "metadata": {},
     "output_type": "execute_result"
    }
   ],
   "source": [
    "data.tail()"
   ]
  },
  {
   "cell_type": "code",
   "execution_count": 13,
   "id": "440210a9",
   "metadata": {
    "scrolled": true
   },
   "outputs": [
    {
     "name": "stdout",
     "output_type": "stream",
     "text": [
      "<class 'pandas.core.frame.DataFrame'>\n",
      "RangeIndex: 975 entries, 0 to 974\n",
      "Data columns (total 6 columns):\n",
      " #   Column       Non-Null Count  Dtype \n",
      "---  ------       --------------  ----- \n",
      " 0   titles       975 non-null    object\n",
      " 1   brand_names  975 non-null    object\n",
      " 2   prices       975 non-null    object\n",
      " 3   offers       975 non-null    object\n",
      " 4   Gender       975 non-null    object\n",
      " 5   Type         975 non-null    object\n",
      "dtypes: object(6)\n",
      "memory usage: 45.8+ KB\n"
     ]
    }
   ],
   "source": [
    "data.info()"
   ]
  },
  {
   "cell_type": "markdown",
   "id": "97d39b0f",
   "metadata": {},
   "source": [
    "## Data Cleaning"
   ]
  },
  {
   "cell_type": "code",
   "execution_count": 24,
   "id": "09c99bfd",
   "metadata": {},
   "outputs": [],
   "source": [
    "# remove extra character from data\n",
    "data[\"prices\"] = data[\"prices\"].apply(lambda x:x.replace(\"₹\",\"\")).str.replace(\",\",\"\").astype(int)"
   ]
  },
  {
   "cell_type": "code",
   "execution_count": 29,
   "id": "2708a7a0",
   "metadata": {},
   "outputs": [],
   "source": [
    "# remove extra character from data\n",
    "data[\"offers\"] = data[\"offers\"].apply(lambda x:x.replace(\"%\",\"\")).str.replace(\"off\",\"\").astype(int)"
   ]
  },
  {
   "cell_type": "code",
   "execution_count": 36,
   "id": "568bf75d",
   "metadata": {},
   "outputs": [
    {
     "data": {
      "text/plain": [
       "173"
      ]
     },
     "execution_count": 36,
     "metadata": {},
     "output_type": "execute_result"
    }
   ],
   "source": [
    "# check duplicet\n",
    "data.duplicated().sum()"
   ]
  },
  {
   "cell_type": "code",
   "execution_count": 38,
   "id": "d743ec1d",
   "metadata": {},
   "outputs": [],
   "source": [
    "data.drop_duplicates(inplace=True)"
   ]
  },
  {
   "cell_type": "code",
   "execution_count": 39,
   "id": "99eff800",
   "metadata": {},
   "outputs": [
    {
     "data": {
      "text/plain": [
       "(802, 6)"
      ]
     },
     "execution_count": 39,
     "metadata": {},
     "output_type": "execute_result"
    }
   ],
   "source": [
    "data.shape"
   ]
  },
  {
   "cell_type": "markdown",
   "id": "87b6052b",
   "metadata": {},
   "source": [
    "## EDA"
   ]
  },
  {
   "cell_type": "code",
   "execution_count": 41,
   "id": "a6a05671",
   "metadata": {},
   "outputs": [],
   "source": [
    "# saprate numerical and catigorical colums\n",
    "catigorical_features = data.dtypes[data.dtypes == \"object\"].index"
   ]
  },
  {
   "cell_type": "code",
   "execution_count": 42,
   "id": "82a480a4",
   "metadata": {},
   "outputs": [
    {
     "data": {
      "text/plain": [
       "Index(['titles', 'brand_names', 'Gender', 'Type'], dtype='object')"
      ]
     },
     "execution_count": 42,
     "metadata": {},
     "output_type": "execute_result"
    }
   ],
   "source": [
    "catigorical_features"
   ]
  },
  {
   "cell_type": "code",
   "execution_count": 43,
   "id": "1c0df439",
   "metadata": {},
   "outputs": [],
   "source": [
    "numerical_features = data.dtypes[data.dtypes != \"object\"].index"
   ]
  },
  {
   "cell_type": "code",
   "execution_count": 44,
   "id": "22542347",
   "metadata": {},
   "outputs": [
    {
     "data": {
      "text/plain": [
       "Index(['prices', 'offers'], dtype='object')"
      ]
     },
     "execution_count": 44,
     "metadata": {},
     "output_type": "execute_result"
    }
   ],
   "source": [
    "numerical_features"
   ]
  },
  {
   "cell_type": "code",
   "execution_count": 48,
   "id": "478f040e",
   "metadata": {},
   "outputs": [
    {
     "data": {
      "image/png": "[encoded data removed]",
      "text/plain": [
       "<Figure size 1100x800 with 2 Axes>"
      ]
     },
     "metadata": {},
     "output_type": "display_data"
    }
   ],
   "source": [
    "for i in range(0,len(numerical_features)):\n",
    "    plt.subplot(2,2,i+1)\n",
    "    sns.distplot(x=data[numerical_features[i]])\n",
    "    plt.tight_layout()"
   ]
  },
  {
   "cell_type": "code",
   "execution_count": 49,
   "id": "a0a95bf1",
   "metadata": {},
   "outputs": [
    {
     "data": {
      "image/png": "[encoded data removed]",
      "text/plain": [
       "<Figure size 1100x800 with 2 Axes>"
      ]
     },
     "metadata": {},
     "output_type": "display_data"
    }
   ],
   "source": [
    "for i in range(0,len(numerical_features)):\n",
    "    plt.subplot(2,2,i+1)\n",
    "    sns.boxplot(x=data[numerical_features[i]])\n",
    "    plt.tight_layout()"
   ]
  },
  {
   "cell_type": "code",
   "execution_count": 62,
   "id": "9e81b9b7",
   "metadata": {},
   "outputs": [],
   "source": [
    "top10brand = data.groupby(\"brand_names\")[\"prices\"].sum().sort_values(ascending=False).reset_index().head(10)"
   ]
  },
  {
   "cell_type": "code",
   "execution_count": 63,
   "id": "66a92acb",
   "metadata": {},
   "outputs": [
    {
     "data": {
      "text/html": [
       "<div>\n",
       "<style scoped>\n",
       "    .dataframe tbody tr th:only-of-type {\n",
       "        vertical-align: middle;\n",
       "    }\n",
       "\n",
       "    .dataframe tbody tr th {\n",
       "        vertical-align: top;\n",
       "    }\n",
       "\n",
       "    .dataframe thead th {\n",
       "        text-align: right;\n",
       "    }\n",
       "</style>\n",
       "<table border=\"1\" class=\"dataframe\">\n",
       "  <thead>\n",
       "    <tr style=\"text-align: right;\">\n",
       "      <th></th>\n",
       "      <th>brand_names</th>\n",
       "      <th>prices</th>\n",
       "    </tr>\n",
       "  </thead>\n",
       "  <tbody>\n",
       "    <tr>\n",
       "      <th>0</th>\n",
       "      <td>Titan</td>\n",
       "      <td>242343</td>\n",
       "    </tr>\n",
       "    <tr>\n",
       "      <th>1</th>\n",
       "      <td>Fastrack</td>\n",
       "      <td>180118</td>\n",
       "    </tr>\n",
       "    <tr>\n",
       "      <th>2</th>\n",
       "      <td>SONATA</td>\n",
       "      <td>92947</td>\n",
       "    </tr>\n",
       "    <tr>\n",
       "      <th>3</th>\n",
       "      <td>FOSSIL</td>\n",
       "      <td>68553</td>\n",
       "    </tr>\n",
       "    <tr>\n",
       "      <th>4</th>\n",
       "      <td>LACOSTE</td>\n",
       "      <td>44279</td>\n",
       "    </tr>\n",
       "    <tr>\n",
       "      <th>5</th>\n",
       "      <td>CASIO</td>\n",
       "      <td>43953</td>\n",
       "    </tr>\n",
       "    <tr>\n",
       "      <th>6</th>\n",
       "      <td>TIMEX</td>\n",
       "      <td>42328</td>\n",
       "    </tr>\n",
       "    <tr>\n",
       "      <th>7</th>\n",
       "      <td>VAN HEUSEN</td>\n",
       "      <td>22792</td>\n",
       "    </tr>\n",
       "    <tr>\n",
       "      <th>8</th>\n",
       "      <td>PETER ENGLAND</td>\n",
       "      <td>18493</td>\n",
       "    </tr>\n",
       "    <tr>\n",
       "      <th>9</th>\n",
       "      <td>Allen Solly</td>\n",
       "      <td>14866</td>\n",
       "    </tr>\n",
       "  </tbody>\n",
       "</table>\n",
       "</div>"
      ],
      "text/plain": [
       "     brand_names  prices\n",
       "0          Titan  242343\n",
       "1       Fastrack  180118\n",
       "2         SONATA   92947\n",
       "3         FOSSIL   68553\n",
       "4        LACOSTE   44279\n",
       "5          CASIO   43953\n",
       "6          TIMEX   42328\n",
       "7     VAN HEUSEN   22792\n",
       "8  PETER ENGLAND   18493\n",
       "9    Allen Solly   14866"
      ]
     },
     "execution_count": 63,
     "metadata": {},
     "output_type": "execute_result"
    }
   ],
   "source": [
    "top10brand"
   ]
  },
  {
   "cell_type": "code",
   "execution_count": 65,
   "id": "a000c3c6",
   "metadata": {},
   "outputs": [
    {
     "data": {
      "text/plain": [
       "<AxesSubplot:xlabel='brand_names', ylabel='prices'>"
      ]
     },
     "execution_count": 65,
     "metadata": {},
     "output_type": "execute_result"
    },
    {
     "data": {
      "image/png": "[encoded data removed]",
      "text/plain": [
       "<Figure size 2000x700 with 1 Axes>"
      ]
     },
     "metadata": {},
     "output_type": "display_data"
    }
   ],
   "source": [
    "plt.figure(figsize=(20,7))\n",
    "sns.barplot(x=\"brand_names\",y=\"prices\",data=top10brand)"
   ]
  },
  {
   "cell_type": "code",
   "execution_count": 69,
   "id": "c6d31c18",
   "metadata": {},
   "outputs": [],
   "source": [
    "offer = data.groupby(\"brand_names\")[\"offers\"].sum().sort_values(ascending=False).reset_index().head(10)"
   ]
  },
  {
   "cell_type": "code",
   "execution_count": 70,
   "id": "c42ba933",
   "metadata": {},
   "outputs": [
    {
     "data": {
      "text/html": [
       "<div>\n",
       "<style scoped>\n",
       "    .dataframe tbody tr th:only-of-type {\n",
       "        vertical-align: middle;\n",
       "    }\n",
       "\n",
       "    .dataframe tbody tr th {\n",
       "        vertical-align: top;\n",
       "    }\n",
       "\n",
       "    .dataframe thead th {\n",
       "        text-align: right;\n",
       "    }\n",
       "</style>\n",
       "<table border=\"1\" class=\"dataframe\">\n",
       "  <thead>\n",
       "    <tr style=\"text-align: right;\">\n",
       "      <th></th>\n",
       "      <th>brand_names</th>\n",
       "      <th>offers</th>\n",
       "    </tr>\n",
       "  </thead>\n",
       "  <tbody>\n",
       "    <tr>\n",
       "      <th>0</th>\n",
       "      <td>Fastrack</td>\n",
       "      <td>3820</td>\n",
       "    </tr>\n",
       "    <tr>\n",
       "      <th>1</th>\n",
       "      <td>SONATA</td>\n",
       "      <td>3604</td>\n",
       "    </tr>\n",
       "    <tr>\n",
       "      <th>2</th>\n",
       "      <td>Titan</td>\n",
       "      <td>2862</td>\n",
       "    </tr>\n",
       "    <tr>\n",
       "      <th>3</th>\n",
       "      <td>TIMEX</td>\n",
       "      <td>1419</td>\n",
       "    </tr>\n",
       "    <tr>\n",
       "      <th>4</th>\n",
       "      <td>Septem</td>\n",
       "      <td>1326</td>\n",
       "    </tr>\n",
       "    <tr>\n",
       "      <th>5</th>\n",
       "      <td>LIMESTONE</td>\n",
       "      <td>1253</td>\n",
       "    </tr>\n",
       "    <tr>\n",
       "      <th>6</th>\n",
       "      <td>Trex</td>\n",
       "      <td>1101</td>\n",
       "    </tr>\n",
       "    <tr>\n",
       "      <th>7</th>\n",
       "      <td>hala</td>\n",
       "      <td>1088</td>\n",
       "    </tr>\n",
       "    <tr>\n",
       "      <th>8</th>\n",
       "      <td>FOGG</td>\n",
       "      <td>1028</td>\n",
       "    </tr>\n",
       "    <tr>\n",
       "      <th>9</th>\n",
       "      <td>Daniel Jubile</td>\n",
       "      <td>1008</td>\n",
       "    </tr>\n",
       "  </tbody>\n",
       "</table>\n",
       "</div>"
      ],
      "text/plain": [
       "     brand_names  offers\n",
       "0       Fastrack    3820\n",
       "1         SONATA    3604\n",
       "2          Titan    2862\n",
       "3          TIMEX    1419\n",
       "4         Septem    1326\n",
       "5      LIMESTONE    1253\n",
       "6           Trex    1101\n",
       "7           hala    1088\n",
       "8           FOGG    1028\n",
       "9  Daniel Jubile    1008"
      ]
     },
     "execution_count": 70,
     "metadata": {},
     "output_type": "execute_result"
    }
   ],
   "source": [
    "offer"
   ]
  },
  {
   "cell_type": "code",
   "execution_count": 72,
   "id": "f47462b1",
   "metadata": {},
   "outputs": [
    {
     "data": {
      "text/plain": [
       "<AxesSubplot:xlabel='brand_names', ylabel='offers'>"
      ]
     },
     "execution_count": 72,
     "metadata": {},
     "output_type": "execute_result"
    },
    {
     "data": {
      "image/png": "[encoded data removed]",
      "text/plain": [
       "<Figure size 2000x700 with 1 Axes>"
      ]
     },
     "metadata": {},
     "output_type": "display_data"
    }
   ],
   "source": [
    "plt.figure(figsize=(20,7))\n",
    "sns.barplot(x=\"brand_names\",y=\"offers\",data=offer)"
   ]
  },
  {
   "cell_type": "code",
   "execution_count": 73,
   "id": "fe90e8c7",
   "metadata": {},
   "outputs": [
    {
     "data": {
      "text/plain": [
       "<AxesSubplot:xlabel='Gender', ylabel='count'>"
      ]
     },
     "execution_count": 73,
     "metadata": {},
     "output_type": "execute_result"
    },
    {
     "data": {
      "image/png": "[encoded data removed]",
      "text/plain": [
       "<Figure size 1100x800 with 1 Axes>"
      ]
     },
     "metadata": {},
     "output_type": "display_data"
    }
   ],
   "source": [
    "sns.countplot(data[\"Gender\"])"
   ]
  },
  {
   "cell_type": "code",
   "execution_count": 77,
   "id": "9430a537",
   "metadata": {},
   "outputs": [
    {
     "data": {
      "text/html": [
       "<div>\n",
       "<style scoped>\n",
       "    .dataframe tbody tr th:only-of-type {\n",
       "        vertical-align: middle;\n",
       "    }\n",
       "\n",
       "    .dataframe tbody tr th {\n",
       "        vertical-align: top;\n",
       "    }\n",
       "\n",
       "    .dataframe thead th {\n",
       "        text-align: right;\n",
       "    }\n",
       "</style>\n",
       "<table border=\"1\" class=\"dataframe\">\n",
       "  <thead>\n",
       "    <tr style=\"text-align: right;\">\n",
       "      <th></th>\n",
       "      <th>brand_names</th>\n",
       "      <th>prices</th>\n",
       "    </tr>\n",
       "  </thead>\n",
       "  <tbody>\n",
       "    <tr>\n",
       "      <th>116</th>\n",
       "      <td>Zanques</td>\n",
       "      <td>238</td>\n",
       "    </tr>\n",
       "    <tr>\n",
       "      <th>117</th>\n",
       "      <td>TrackFly</td>\n",
       "      <td>223</td>\n",
       "    </tr>\n",
       "    <tr>\n",
       "      <th>118</th>\n",
       "      <td>Kolpsy</td>\n",
       "      <td>209</td>\n",
       "    </tr>\n",
       "    <tr>\n",
       "      <th>119</th>\n",
       "      <td>Bowger</td>\n",
       "      <td>195</td>\n",
       "    </tr>\n",
       "    <tr>\n",
       "      <th>120</th>\n",
       "      <td>YOUTH CLUB</td>\n",
       "      <td>189</td>\n",
       "    </tr>\n",
       "  </tbody>\n",
       "</table>\n",
       "</div>"
      ],
      "text/plain": [
       "    brand_names  prices\n",
       "116     Zanques     238\n",
       "117    TrackFly     223\n",
       "118      Kolpsy     209\n",
       "119      Bowger     195\n",
       "120  YOUTH CLUB     189"
      ]
     },
     "execution_count": 77,
     "metadata": {},
     "output_type": "execute_result"
    }
   ],
   "source": [
    "data.groupby(\"brand_names\")[\"prices\"].sum().sort_values(ascending=False).reset_index().tail(5)"
   ]
  },
  {
   "cell_type": "code",
   "execution_count": null,
   "id": "df5ce55f",
   "metadata": {},
   "outputs": [],
   "source": []
  },
  {
   "cell_type": "code",
   "execution_count": null,
   "id": "4f3e8596",
   "metadata": {},
   "outputs": [],
   "source": []
  },
  {
   "cell_type": "code",
   "execution_count": null,
   "id": "50f2ebb9",
   "metadata": {},
   "outputs": [],
   "source": []
  },
  {
   "cell_type": "code",
   "execution_count": null,
   "id": "54e623af",
   "metadata": {},
   "outputs": [],
   "source": []
  },
  {
   "cell_type": "code",
   "execution_count": null,
   "id": "053385ac",
   "metadata": {},
   "outputs": [],
   "source": []
  },
  {
   "cell_type": "code",
   "execution_count": null,
   "id": "985e7c4c",
   "metadata": {},
   "outputs": [],
   "source": []
  },
  {
   "cell_type": "code",
   "execution_count": null,
   "id": "06949722",
   "metadata": {},
   "outputs": [],
   "source": []
  }
 ],
 "metadata": {
  "kernelspec": {
   "display_name": "Python 3 (ipykernel)",
   "language": "python",
   "name": "python3"
  },
  "language_info": {
   "codemirror_mode": {
    "name": "ipython",
    "version": 3
   },
   "file_extension": ".py",
   "mimetype": "text/x-python",
   "name": "python",
   "nbconvert_exporter": "python",
   "pygments_lexer": "ipython3",
   "version": "3.10.6"
  }
 },
 "nbformat": 4,
 "nbformat_minor": 5
}
